{
 "cells": [
  {
   "cell_type": "markdown",
   "id": "03b14f3a",
   "metadata": {},
   "source": [
    "# Web Scraping\n",
    "\n",
    "Most webpages are created for humans, but that doesn't mean we can't write computers to \"scrape\" information out of them.  Today, we're going to learn selenium, a powerful tool that allows us to automate typing, clicks, and other actions in a real web browser.  It will help us pull data from sites with a number of challenging designs, several of which are illustrated by simple examples here: https://tyler.caraza-harter.com/cs320/tricky/scrape.html\n",
    "\n",
    "First, let's take a look web scraping via two simpler tools, `requests` and `BeautifulSoup`.\n",
    "\n",
    "## requests and BeautifulSoup\n",
    "\n",
    "If you don't already have these packages, install them: `pip3 install requests beautifulsoup4`.  `requests` lets us to execute GET (download) and other HTTP requests.  Often, the file requested might be an HTML file.  In this case, BeautifulSoup lets us extract information from HTML tags.\n",
    "\n",
    "We'll try to scrape the tabels from this page: https://tyler.caraza-harter.com/cs320/tricky/page1.html.  Visit it, right click on the page, then click \"View Page Source\".\n",
    "\n",
    "You'll see something like this:"
   ]
  },
  {
   "cell_type": "markdown",
   "id": "3e078b28",
   "metadata": {},
   "source": [
    "```html\n",
    "<html>\n",
    "  <head>\n",
    "    <script src=\"https://code.jquery.com/jquery-3.4.1.js\"></script>\n",
    "    <script>\n",
    "      ... LOTS OF JAVASCRIPT CODE HERE...\n",
    "    </script>\n",
    "  </head>\n",
    "  <body onload=\"main()\">\n",
    "    <h1>Welcome</h1>\n",
    "    <h3>Here's a table</h3>\n",
    "    <table border=1 id='alpha'>\n",
    "      <tr><td>A</td><td>B</td><td>C</td></tr>\n",
    "      <tr><td>1</td><td>2</td><td>3</td></tr>\n",
    "      <tr><td>4</td><td>5</td><td>6</td></tr>\n",
    "    </table>\n",
    "\n",
    "    <h3>And another one...</h3>\n",
    "  </body>\n",
    "</html>\n",
    "```"
   ]
  },
  {
   "cell_type": "markdown",
   "id": "fa3f0b8a",
   "metadata": {},
   "source": [
    "Inside the `<script>` tags there is code in the JavaScript programming language.  One the page is loaded in the browser, this code starts executing, and may make some changes to the tags/elements.\n",
    "\n",
    "In the above HTML, we see one table (`<table>`); however, the JavaScript code will automatically generate a second table.  With the `requests` module, we can only grab the version of the page **before** the JavaScript runs.  So in this example, we'll just extract data from that first table (later we'll use Selenium to get data from the second table too)."
   ]
  },
  {
   "cell_type": "code",
   "execution_count": 1,
   "id": "0edd48d6",
   "metadata": {},
   "outputs": [
    {
     "data": {
      "text/plain": [
       "requests.models.Response"
      ]
     },
     "execution_count": 1,
     "metadata": {},
     "output_type": "execute_result"
    }
   ],
   "source": [
    "import requests\n",
    "r = requests.get(\"https://tyler.caraza-harter.com/cs320/tricky/page1.html\")\n",
    "r.raise_for_status()\n",
    "type(r)"
   ]
  },
  {
   "cell_type": "code",
   "execution_count": 2,
   "id": "995a0d6c",
   "metadata": {},
   "outputs": [
    {
     "data": {
      "text/plain": [
       "str"
      ]
     },
     "execution_count": 2,
     "metadata": {},
     "output_type": "execute_result"
    }
   ],
   "source": [
    "html = r.text\n",
    "type(html)"
   ]
  },
  {
   "cell_type": "code",
   "execution_count": 3,
   "id": "d99b0b1e",
   "metadata": {},
   "outputs": [
    {
     "data": {
      "text/plain": [
       "'<html>\\n  <head>\\n    <script src=\"https://code.jquery.com/jquery-3.4.1.js\"></script>\\n    <script>\\n      function addTable() {\\n        var html = \"<table border=1 id=\\'coords\\'>\\\\n\";\\n        html += \"<tr><'"
      ]
     },
     "execution_count": 3,
     "metadata": {},
     "output_type": "execute_result"
    }
   ],
   "source": [
    "html[:200]"
   ]
  },
  {
   "cell_type": "markdown",
   "id": "7cba8fc1",
   "metadata": {},
   "source": [
    "Above, we see we can use `.get` to request a web page; a `Response` object is returned.  The `.raise_for_status()` call makes sure we crash if it is an error page (such as a \"404 missing\" error).\n",
    "\n",
    "Once we're sure the page is good, we can access the `.text` attribute of the `Response` object.  As show above, this is a regular string.\n",
    "\n",
    "We'll use BeautifulSoup to convert this text to a `BeautifulSoup` object, which is a searchable tree of elements."
   ]
  },
  {
   "cell_type": "code",
   "execution_count": 4,
   "id": "95905149",
   "metadata": {},
   "outputs": [
    {
     "data": {
      "text/plain": [
       "bs4.BeautifulSoup"
      ]
     },
     "execution_count": 4,
     "metadata": {},
     "output_type": "execute_result"
    }
   ],
   "source": [
    "from bs4 import BeautifulSoup\n",
    "doc = BeautifulSoup(html, \"html.parser\")\n",
    "type(doc)"
   ]
  },
  {
   "cell_type": "markdown",
   "id": "099c192d",
   "metadata": {},
   "source": [
    "Looks like there are three tr tags (table rows) on the page:"
   ]
  },
  {
   "cell_type": "code",
   "execution_count": 5,
   "id": "79bbf6fc",
   "metadata": {},
   "outputs": [
    {
     "data": {
      "text/plain": [
       "3"
      ]
     },
     "execution_count": 5,
     "metadata": {},
     "output_type": "execute_result"
    }
   ],
   "source": [
    "trs = doc.findAll(\"tr\")\n",
    "len(trs)"
   ]
  },
  {
   "cell_type": "code",
   "execution_count": 6,
   "id": "c64cb3fd",
   "metadata": {},
   "outputs": [
    {
     "data": {
      "text/plain": [
       "[<tr><td>A</td><td>B</td><td>C</td></tr>,\n",
       " <tr><td>1</td><td>2</td><td>3</td></tr>,\n",
       " <tr><td>4</td><td>5</td><td>6</td></tr>]"
      ]
     },
     "execution_count": 6,
     "metadata": {},
     "output_type": "execute_result"
    }
   ],
   "source": [
    "trs"
   ]
  },
  {
   "cell_type": "markdown",
   "id": "568d3e6d",
   "metadata": {},
   "source": [
    "They are represented as `Tag` objects; `Tag` elements looks like HTML when converted to a string.  Alternatively, the `.text` attribute shows us the raw content, without all the surrounding HTML."
   ]
  },
  {
   "cell_type": "code",
   "execution_count": 7,
   "id": "4e32e33b",
   "metadata": {},
   "outputs": [
    {
     "data": {
      "text/plain": [
       "'<tr><td>A</td><td>B</td><td>C</td></tr>'"
      ]
     },
     "execution_count": 7,
     "metadata": {},
     "output_type": "execute_result"
    }
   ],
   "source": [
    "str(trs[0])"
   ]
  },
  {
   "cell_type": "code",
   "execution_count": 8,
   "id": "f41d2ba9",
   "metadata": {},
   "outputs": [
    {
     "data": {
      "text/plain": [
       "'ABC'"
      ]
     },
     "execution_count": 8,
     "metadata": {},
     "output_type": "execute_result"
    }
   ],
   "source": [
    "trs[0].text"
   ]
  },
  {
   "cell_type": "markdown",
   "id": "d93aea9f",
   "metadata": {},
   "source": [
    "The `findAll` method can be used on the whole page, or to search within a single element/Tag."
   ]
  },
  {
   "cell_type": "code",
   "execution_count": 9,
   "id": "0f1f7409",
   "metadata": {},
   "outputs": [
    {
     "data": {
      "text/plain": [
       "9"
      ]
     },
     "execution_count": 9,
     "metadata": {},
     "output_type": "execute_result"
    }
   ],
   "source": [
    "len(doc.findAll(\"td\")) # 9 cells (td=table data) in whole page"
   ]
  },
  {
   "cell_type": "code",
   "execution_count": 10,
   "id": "f3e39d91",
   "metadata": {},
   "outputs": [
    {
     "data": {
      "text/plain": [
       "3"
      ]
     },
     "execution_count": 10,
     "metadata": {},
     "output_type": "execute_result"
    }
   ],
   "source": [
    "len(trs[0].findAll(\"td\")) # 3 cells (td=table data) in first row"
   ]
  },
  {
   "cell_type": "markdown",
   "id": "60a3de0a",
   "metadata": {},
   "source": [
    "Let's right a method that does three things:\n",
    "1. fetch a page using `requests.get`\n",
    "2. parse that page with BeautifulSoup\n",
    "3. search through the tree for rows/cells, placing them in a list of lists"
   ]
  },
  {
   "cell_type": "code",
   "execution_count": 11,
   "id": "90004f29",
   "metadata": {},
   "outputs": [
    {
     "data": {
      "text/plain": [
       "[['A', 'B', 'C'], ['1', '2', '3'], ['4', '5', '6']]"
      ]
     },
     "execution_count": 11,
     "metadata": {},
     "output_type": "execute_result"
    }
   ],
   "source": [
    "def grab_table(url):\n",
    "    r = requests.get(url)\n",
    "    r.raise_for_status()\n",
    "    doc = BeautifulSoup(r.text)\n",
    "    rows = []\n",
    "    for tr in doc.findAll(\"tr\"):\n",
    "        row = []\n",
    "        for td in tr.findAll(\"td\"):\n",
    "            row.append(td.text)\n",
    "        rows.append(row)\n",
    "    return rows\n",
    "\n",
    "rows = grab_table(\"https://tyler.caraza-harter.com/cs320/tricky/page1.html\")\n",
    "rows"
   ]
  },
  {
   "cell_type": "markdown",
   "id": "541f61d9",
   "metadata": {},
   "source": [
    "The above is a short step away from getting a useful DataFrame:"
   ]
  },
  {
   "cell_type": "code",
   "execution_count": 12,
   "id": "d10be814",
   "metadata": {},
   "outputs": [
    {
     "data": {
      "text/html": [
       "<div>\n",
       "<style scoped>\n",
       "    .dataframe tbody tr th:only-of-type {\n",
       "        vertical-align: middle;\n",
       "    }\n",
       "\n",
       "    .dataframe tbody tr th {\n",
       "        vertical-align: top;\n",
       "    }\n",
       "\n",
       "    .dataframe thead th {\n",
       "        text-align: right;\n",
       "    }\n",
       "</style>\n",
       "<table border=\"1\" class=\"dataframe\">\n",
       "  <thead>\n",
       "    <tr style=\"text-align: right;\">\n",
       "      <th></th>\n",
       "      <th>A</th>\n",
       "      <th>B</th>\n",
       "      <th>C</th>\n",
       "    </tr>\n",
       "  </thead>\n",
       "  <tbody>\n",
       "    <tr>\n",
       "      <th>0</th>\n",
       "      <td>1</td>\n",
       "      <td>2</td>\n",
       "      <td>3</td>\n",
       "    </tr>\n",
       "    <tr>\n",
       "      <th>1</th>\n",
       "      <td>4</td>\n",
       "      <td>5</td>\n",
       "      <td>6</td>\n",
       "    </tr>\n",
       "  </tbody>\n",
       "</table>\n",
       "</div>"
      ],
      "text/plain": [
       "   A  B  C\n",
       "0  1  2  3\n",
       "1  4  5  6"
      ]
     },
     "execution_count": 12,
     "metadata": {},
     "output_type": "execute_result"
    }
   ],
   "source": [
    "import pandas as pd\n",
    "\n",
    "header = rows[0]\n",
    "data = rows[1:]\n",
    "pd.DataFrame(data, columns=header)"
   ]
  },
  {
   "cell_type": "markdown",
   "id": "3d41dec1",
   "metadata": {},
   "source": [
    "# Selenium\n",
    "\n",
    "Selenium is able to automate clicks and type text in an actual web browser.  This will let us do things like take a screenshot of a page and actually execute the JavaScript in the `<script>` tags (to get the data in the second table too).\n",
    "\n",
    "Selenium has some features of both `requests` and `BeautifulSoup`: it can both grab content, and provide a searchable tree.\n",
    "\n",
    "Let's create a web browser (of type `WebDriver`):"
   ]
  },
  {
   "cell_type": "code",
   "execution_count": 13,
   "id": "9fd68d9f",
   "metadata": {},
   "outputs": [
    {
     "data": {
      "text/plain": [
       "selenium.webdriver.chrome.webdriver.WebDriver"
      ]
     },
     "execution_count": 13,
     "metadata": {},
     "output_type": "execute_result"
    }
   ],
   "source": [
    "from selenium import webdriver\n",
    "from selenium.webdriver.chrome.options import Options\n",
    "from selenium.common.exceptions import NoSuchElementException\n",
    "\n",
    "options = Options()\n",
    "options.headless = True\n",
    "b = webdriver.Chrome(options=options)\n",
    "type(b)"
   ]
  },
  {
   "cell_type": "markdown",
   "id": "18681bd3",
   "metadata": {},
   "source": [
    "The `headless = True` means the browser is hidden, in the background (this is necessary to run on a virtual machine without graphics).  But we can still manipulate this browser and see what it is doing by taking screenshots:"
   ]
  },
  {
   "cell_type": "code",
   "execution_count": 14,
   "id": "9e6850b2",
   "metadata": {},
   "outputs": [
    {
     "data": {
      "text/plain": [
       "True"
      ]
     },
     "execution_count": 14,
     "metadata": {},
     "output_type": "execute_result"
    }
   ],
   "source": [
    "b.get(\"https://tyler.caraza-harter.com/cs320/tricky/page1.html\") # go to a page\n",
    "b.save_screenshot(\"shot1.png\")"
   ]
  },
  {
   "cell_type": "code",
   "execution_count": 15,
   "id": "3f4cfd9c",
   "metadata": {},
   "outputs": [
    {
     "data": {
      "image/png": "[encoded data removed]",
      "text/plain": [
       "<IPython.core.display.Image object>"
      ]
     },
     "execution_count": 15,
     "metadata": {},
     "output_type": "execute_result"
    }
   ],
   "source": [
    "from IPython.core.display import Image\n",
    "Image(\"shot1.png\")"
   ]
  },
  {
   "cell_type": "markdown",
   "id": "261f7331",
   "metadata": {},
   "source": [
    "Looks like that second table wasn't loaded yet.  But if we wait a few seconds, it will be."
   ]
  },
  {
   "cell_type": "code",
   "execution_count": 16,
   "id": "619801f5",
   "metadata": {},
   "outputs": [],
   "source": [
    "import time\n",
    "time.sleep(3) # in seconds"
   ]
  },
  {
   "cell_type": "code",
   "execution_count": 17,
   "id": "c1aea4b6",
   "metadata": {},
   "outputs": [
    {
     "data": {
      "image/png": "[encoded data removed]",
      "text/plain": [
       "<IPython.core.display.Image object>"
      ]
     },
     "execution_count": 17,
     "metadata": {},
     "output_type": "execute_result"
    }
   ],
   "source": [
    "b.save_screenshot(\"shot2.png\")\n",
    "Image(\"shot2.png\")"
   ]
  },
  {
   "cell_type": "markdown",
   "id": "eb57d51b",
   "metadata": {},
   "source": [
    "Here's what happened in the browser:\n",
    "1. Chrome converted HTML tags to elements in the DOM (Document Object Model)\n",
    "2. JavaScript added some elements to the DOM (for the second table)\n",
    "3. the new version with both tables got shown\n",
    "\n",
    "Selenium's `.page_source` element lets us convert the new version back to HTML (notice there are two `<table>`'s instead of the original one -- `requests` could only see the first one, but Selenium also sees the one generated by the JavaScript code)."
   ]
  },
  {
   "cell_type": "code",
   "execution_count": 18,
   "id": "f72bb34f",
   "metadata": {},
   "outputs": [
    {
     "name": "stdout",
     "output_type": "stream",
     "text": [
      "<html><head>\n",
      "    <script src=\"https://code.jquery.com/jquery-3.4.1.js\"></script>\n",
      "    <script>\n",
      "      function addTable() {\n",
      "        var html = \"<table border=1 id='coords'>\\n\";\n",
      "        html += \"<tr><td>x</td><td>y</td></tr>\\n\";\n",
      "        for (i = 0; i < 10; i++) {\n",
      "          html += \"<tr><td>\" + (i*2) + \"</td><td>\" + (i*2+1) + \"</td></tr>\\n\";\n",
      "        }\n",
      "        html += \"</table>\";\n",
      "\n",
      "        var t = document.createElement(\"div\");\n",
      "        t.innerHTML = html;\n",
      "        document.body.appendChild(t);\n",
      "      }\n",
      "      \n",
      "      function main() {\n",
      "        setTimeout(addTable, 1000)\n",
      "      }\n",
      "      </script>\n",
      "  </head>\n",
      "  <body onload=\"main()\">\n",
      "    <h1>Welcome</h1>\n",
      "    <h3>Here's a table</h3>\n",
      "    <table border=\"1\" id=\"alpha\">\n",
      "      <tbody><tr><td>A</td><td>B</td><td>C</td></tr>\n",
      "      <tr><td>1</td><td>2</td><td>3</td></tr>\n",
      "      <tr><td>4</td><td>5</td><td>6</td></tr>\n",
      "    </tbody></table>\n",
      "\n",
      "    <h3>And another one...</h3>\n",
      "  \n",
      "\n",
      "<div><table border=\"1\" id=\"coords\">\n",
      "<tbody><tr><td>x</td><td>y</td></tr>\n",
      "<tr><td>0</td><td>1</td></tr>\n",
      "<tr><td>2</td><td>3</td></tr>\n",
      "<tr><td>4</td><td>5</td></tr>\n",
      "<tr><td>6</td><td>7</td></tr>\n",
      "<tr><td>8</td><td>9</td></tr>\n",
      "<tr><td>10</td><td>11</td></tr>\n",
      "<tr><td>12</td><td>13</td></tr>\n",
      "<tr><td>14</td><td>15</td></tr>\n",
      "<tr><td>16</td><td>17</td></tr>\n",
      "<tr><td>18</td><td>19</td></tr>\n",
      "</tbody></table></div></body></html>\n"
     ]
    }
   ],
   "source": [
    "print(b.page_source)"
   ]
  },
  {
   "cell_type": "markdown",
   "id": "a299f1fb",
   "metadata": {},
   "source": [
    "One option would be to used this updated HTML string with BeautifulSoup to search for tables and data:"
   ]
  },
  {
   "cell_type": "code",
   "execution_count": 19,
   "id": "a7baf446",
   "metadata": {},
   "outputs": [
    {
     "name": "stdout",
     "output_type": "stream",
     "text": [
      "There are 2 table(s)\n"
     ]
    }
   ],
   "source": [
    "doc = BeautifulSoup(b.page_source)\n",
    "tables = doc.findAll(\"table\")\n",
    "print(f\"There are {len(tables)} table(s)\")"
   ]
  },
  {
   "cell_type": "markdown",
   "id": "5a0e4b75",
   "metadata": {},
   "source": [
    "Alternatively, Selenium has a (somewhat clunkier) interface for directly searching for elements:"
   ]
  },
  {
   "cell_type": "code",
   "execution_count": 20,
   "id": "f9d2b214",
   "metadata": {},
   "outputs": [
    {
     "name": "stdout",
     "output_type": "stream",
     "text": [
      "There are 2 table(s)\n"
     ]
    }
   ],
   "source": [
    "tables = b.find_elements_by_tag_name(\"table\")\n",
    "print(f\"There are {len(tables)} table(s)\")"
   ]
  },
  {
   "cell_type": "markdown",
   "id": "6e28ed79",
   "metadata": {},
   "source": [
    "Instead of BeautifulSoup `Tag` objects, we get Selenium `WebElement` objects.  Fortunately, both have a `.text` attribute to see the raw data (without surrounding HTML tags):"
   ]
  },
  {
   "cell_type": "code",
   "execution_count": 21,
   "id": "91241793",
   "metadata": {},
   "outputs": [
    {
     "data": {
      "text/plain": [
       "selenium.webdriver.remote.webelement.WebElement"
      ]
     },
     "execution_count": 21,
     "metadata": {},
     "output_type": "execute_result"
    }
   ],
   "source": [
    "type(tables[0])"
   ]
  },
  {
   "cell_type": "code",
   "execution_count": 22,
   "id": "d881a8d6",
   "metadata": {},
   "outputs": [
    {
     "name": "stdout",
     "output_type": "stream",
     "text": [
      "A B C\n",
      "1 2 3\n",
      "4 5 6\n"
     ]
    }
   ],
   "source": [
    "print(tables[0].text)"
   ]
  },
  {
   "cell_type": "markdown",
   "id": "f203ab87",
   "metadata": {},
   "source": [
    "## Conclusion\n",
    "\n",
    "A web browser like Chrome understands both HTML and JavaScript (and is able to run JavaScript that may update the elements corresponding to HTML tags).  For simple pages, the `requests` module is great way to fetch HTML and other resources, without any JavaScript engine.  `requests` does not parse HTML, so it is often used in conjunction with BeautifulSoup (which can parse an HTML document to a searchable tree structure).\n",
    "\n",
    "Selenium is much slower than `requests`, but it is able to control a real web browser (capable of executing JavaScript), so it allows data scientists to scrape many pages that would not be scrapable otherwise.  Selenium also provides a searchable tree of elements, like BeautifulSoup, but the methods tend to be less convenient, so one may choose to still use BeautifulSoup with Selenium (though it's less necessary than when working with `requests`)."
   ]
  },
  {
   "cell_type": "code",
   "execution_count": null,
   "id": "002c3ca4",
   "metadata": {},
   "outputs": [],
   "source": []
  }
 ],
 "metadata": {
  "kernelspec": {
   "display_name": "Python 3 (ipykernel)",
   "language": "python",
   "name": "python3"
  },
  "language_info": {
   "codemirror_mode": {
    "name": "ipython",
    "version": 3
   },
   "file_extension": ".py",
   "mimetype": "text/x-python",
   "name": "python",
   "nbconvert_exporter": "python",
   "pygments_lexer": "ipython3",
   "version": "3.9.6"
  }
 },
 "nbformat": 4,
 "nbformat_minor": 5
}
